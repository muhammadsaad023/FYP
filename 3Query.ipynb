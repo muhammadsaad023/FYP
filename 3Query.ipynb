{
  "nbformat": 4,
  "nbformat_minor": 0,
  "metadata": {
    "colab": {
      "provenance": [],
      "authorship_tag": "ABX9TyM8dkFWpLFXD0cGj/VIY2c3",
      "include_colab_link": true
    },
    "kernelspec": {
      "name": "python3",
      "display_name": "Python 3"
    },
    "language_info": {
      "name": "python"
    }
  },
  "cells": [
    {
      "cell_type": "markdown",
      "metadata": {
        "id": "view-in-github",
        "colab_type": "text"
      },
      "source": [
        "<a href=\"https://colab.research.google.com/github/muhammadsaad023/FYP/blob/main/3Query.ipynb\" target=\"_parent\"><img src=\"https://colab.research.google.com/assets/colab-badge.svg\" alt=\"Open In Colab\"/></a>"
      ]
    },
    {
      "cell_type": "code",
      "execution_count": 4,
      "metadata": {
        "colab": {
          "base_uri": "https://localhost:8080/"
        },
        "id": "tF9cDJDPTh32",
        "outputId": "5b96ea12-ac89-402a-9704-57e252a7e0b0"
      },
      "outputs": [
        {
          "output_type": "stream",
          "name": "stdout",
          "text": [
            "Requirement already satisfied: pandas in /usr/local/lib/python3.10/dist-packages (2.0.3)\n",
            "Requirement already satisfied: scikit-learn in /usr/local/lib/python3.10/dist-packages (1.2.2)\n",
            "Requirement already satisfied: openpyxl in /usr/local/lib/python3.10/dist-packages (3.1.2)\n",
            "Requirement already satisfied: python-dateutil>=2.8.2 in /usr/local/lib/python3.10/dist-packages (from pandas) (2.8.2)\n",
            "Requirement already satisfied: pytz>=2020.1 in /usr/local/lib/python3.10/dist-packages (from pandas) (2023.4)\n",
            "Requirement already satisfied: tzdata>=2022.1 in /usr/local/lib/python3.10/dist-packages (from pandas) (2024.1)\n",
            "Requirement already satisfied: numpy>=1.21.0 in /usr/local/lib/python3.10/dist-packages (from pandas) (1.25.2)\n",
            "Requirement already satisfied: scipy>=1.3.2 in /usr/local/lib/python3.10/dist-packages (from scikit-learn) (1.11.4)\n",
            "Requirement already satisfied: joblib>=1.1.1 in /usr/local/lib/python3.10/dist-packages (from scikit-learn) (1.4.0)\n",
            "Requirement already satisfied: threadpoolctl>=2.0.0 in /usr/local/lib/python3.10/dist-packages (from scikit-learn) (3.5.0)\n",
            "Requirement already satisfied: et-xmlfile in /usr/local/lib/python3.10/dist-packages (from openpyxl) (1.1.0)\n",
            "Requirement already satisfied: six>=1.5 in /usr/local/lib/python3.10/dist-packages (from python-dateutil>=2.8.2->pandas) (1.16.0)\n",
            "Drive already mounted at /content/drive; to attempt to forcibly remount, call drive.mount(\"/content/drive\", force_remount=True).\n",
            "Query: What is charity?\n",
            "Most similar document 1: SrNo 50\n",
            "English Translation:   steadfast  prayer practise regular charity  bow   heads    bow   worship\n",
            "Similarity Score: 0.3094308723412391\n",
            "\n",
            "Most similar document 2: SrNo 90\n",
            "English Translation:  remember  took  covenant   children  israel   effect worship none  allah treat  kindness  parents  kindred  orphans    need speak fair   people  steadfast  prayer  practise regular charity   ye turn back except   among   ye backslide even now\n",
            "Similarity Score: 0.1913440412872102\n",
            "\n",
            "Most similar document 3: SrNo 37\n",
            "English Translation: behold thy lord said   angels  will create  vicegerent  earth  said wilt thou place therein one  will make mischief therein  shed blood whilst   celebrate thy praises  glorify thy holy name  said  know  ye know \n",
            "Similarity Score: 0.0\n",
            "\n",
            "Query: Who is Allah?\n",
            "Most similar document 1: SrNo 1\n",
            "English Translation:   name  allah  gracious  merciful\n",
            "Similarity Score: 0.24753732045215296\n",
            "\n",
            "Most similar document 2: SrNo 74\n",
            "English Translation:  remember moses said   people allah commands  ye sacrifice  heifer  said makest thou  laughingstock  us  said allah save     ignorant fool\n",
            "Similarity Score: 0.2232670502716384\n",
            "\n",
            "Most similar document 3: SrNo 84\n",
            "English Translation: know    allah knoweth   conceal    reveal\n",
            "Similarity Score: 0.2229065608078734\n",
            "\n",
            "Query: What are the attributes of Allah?\n",
            "Most similar document 1: SrNo 1\n",
            "English Translation:   name  allah  gracious  merciful\n",
            "Similarity Score: 0.24753732045215296\n",
            "\n",
            "Most similar document 2: SrNo 74\n",
            "English Translation:  remember moses said   people allah commands  ye sacrifice  heifer  said makest thou  laughingstock  us  said allah save     ignorant fool\n",
            "Similarity Score: 0.2232670502716384\n",
            "\n",
            "Most similar document 3: SrNo 84\n",
            "English Translation: know    allah knoweth   conceal    reveal\n",
            "Similarity Score: 0.2229065608078734\n",
            "\n"
          ]
        }
      ],
      "source": [
        "# Install required libraries\n",
        "!pip install pandas scikit-learn openpyxl\n",
        "\n",
        "# Import libraries\n",
        "import pandas as pd\n",
        "from sklearn.feature_extraction.text import TfidfVectorizer\n",
        "from sklearn.metrics.pairwise import cosine_similarity\n",
        "\n",
        "# Mount Google Drive\n",
        "from google.colab import drive\n",
        "drive.mount('/content/drive')\n",
        "\n",
        "# Read data from Google Drive\n",
        "df = pd.read_excel('/content/drive/MyDrive/Colab Notebooks/100 lines.xlsx')\n",
        "\n",
        "# Initialize TfidfVectorizer\n",
        "vectorizer = TfidfVectorizer()\n",
        "tfidf_matrix = vectorizer.fit_transform(df['EnglishTranslation'])\n",
        "\n",
        "# Define multiple queries\n",
        "queries = [\"What is charity?\", \"Who is Allah?\",\"What are the attributes of Allah?\"]\n",
        "\n",
        "# Process each query\n",
        "for query in queries:\n",
        "    print(f\"Query: {query}\")\n",
        "\n",
        "    # Transform the query to vector\n",
        "    query_vector = vectorizer.transform([query])\n",
        "\n",
        "    # Compute cosine similarities\n",
        "    cosine_similarities = cosine_similarity(query_vector, tfidf_matrix).flatten()\n",
        "\n",
        "    # Find the indices of the top 3 most similar documents\n",
        "    top_sim_indices = cosine_similarities.argsort()[-3:][::-1]\n",
        "\n",
        "    # Print the results with serial numbers\n",
        "    for i, sim_idx in enumerate(top_sim_indices):\n",
        "        print(f\"Most similar document {i+1}: SrNo {df['SrNo'].iloc[sim_idx]}\")\n",
        "        print(f\"English Translation: {df['EnglishTranslation'].iloc[sim_idx]}\")\n",
        "        print(f\"Similarity Score: {cosine_similarities[sim_idx]}\")\n",
        "        print()\n"
      ]
    }
  ]
}