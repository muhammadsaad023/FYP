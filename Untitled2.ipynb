{
  "nbformat": 4,
  "nbformat_minor": 0,
  "metadata": {
    "colab": {
      "provenance": [],
      "authorship_tag": "ABX9TyNksaSRe/F4lhagbq5krp/4",
      "include_colab_link": true
    },
    "kernelspec": {
      "name": "python3",
      "display_name": "Python 3"
    },
    "language_info": {
      "name": "python"
    }
  },
  "cells": [
    {
      "cell_type": "markdown",
      "metadata": {
        "id": "view-in-github",
        "colab_type": "text"
      },
      "source": [
        "<a href=\"https://colab.research.google.com/github/muhammadsaad023/FYP/blob/main/Untitled2.ipynb\" target=\"_parent\"><img src=\"https://colab.research.google.com/assets/colab-badge.svg\" alt=\"Open In Colab\"/></a>"
      ]
    },
    {
      "cell_type": "code",
      "execution_count": 1,
      "metadata": {
        "colab": {
          "base_uri": "https://localhost:8080/"
        },
        "id": "nLUZN7RXaXzK",
        "outputId": "370c4a97-2c45-4afd-ed10-1b3e23c88554"
      },
      "outputs": [
        {
          "output_type": "stream",
          "name": "stdout",
          "text": [
            "Requirement already satisfied: pandas in /usr/local/lib/python3.10/dist-packages (2.0.3)\n",
            "Requirement already satisfied: scikit-learn in /usr/local/lib/python3.10/dist-packages (1.2.2)\n",
            "Requirement already satisfied: openpyxl in /usr/local/lib/python3.10/dist-packages (3.1.2)\n",
            "Requirement already satisfied: python-dateutil>=2.8.2 in /usr/local/lib/python3.10/dist-packages (from pandas) (2.8.2)\n",
            "Requirement already satisfied: pytz>=2020.1 in /usr/local/lib/python3.10/dist-packages (from pandas) (2023.4)\n",
            "Requirement already satisfied: tzdata>=2022.1 in /usr/local/lib/python3.10/dist-packages (from pandas) (2024.1)\n",
            "Requirement already satisfied: numpy>=1.21.0 in /usr/local/lib/python3.10/dist-packages (from pandas) (1.25.2)\n",
            "Requirement already satisfied: scipy>=1.3.2 in /usr/local/lib/python3.10/dist-packages (from scikit-learn) (1.11.4)\n",
            "Requirement already satisfied: joblib>=1.1.1 in /usr/local/lib/python3.10/dist-packages (from scikit-learn) (1.4.0)\n",
            "Requirement already satisfied: threadpoolctl>=2.0.0 in /usr/local/lib/python3.10/dist-packages (from scikit-learn) (3.4.0)\n",
            "Requirement already satisfied: et-xmlfile in /usr/local/lib/python3.10/dist-packages (from openpyxl) (1.1.0)\n",
            "Requirement already satisfied: six>=1.5 in /usr/local/lib/python3.10/dist-packages (from python-dateutil>=2.8.2->pandas) (1.16.0)\n"
          ]
        }
      ],
      "source": [
        "!pip install pandas scikit-learn openpyxl\n",
        "import pandas as pd\n",
        "from sklearn.feature_extraction.text import TfidfVectorizer\n",
        "from sklearn.metrics.pairwise import cosine_similarity\n"
      ]
    },
    {
      "cell_type": "markdown",
      "source": [],
      "metadata": {
        "id": "Pr6ja9VvLlx8"
      }
    },
    {
      "cell_type": "code",
      "source": [
        "df = pd.read_excel('/content/100 lines.xlsx', sheet_name='Sheet1')\n"
      ],
      "metadata": {
        "id": "TXethoOQa60v"
      },
      "execution_count": 2,
      "outputs": []
    },
    {
      "cell_type": "code",
      "source": [
        "print(df.head())\n"
      ],
      "metadata": {
        "colab": {
          "base_uri": "https://localhost:8080/"
        },
        "id": "JIUEQ_IfbI8y",
        "outputId": "c4be5e7f-f604-44c4-f587-72b8b30471c5"
      },
      "execution_count": 3,
      "outputs": [
        {
          "output_type": "stream",
          "name": "stdout",
          "text": [
            "   SrNo                             EnglishTranslation\n",
            "0     1                name  allah  gracious  merciful\n",
            "1     2  praise   allah  cherisher  sustainer   worlds\n",
            "2     3                             gracious  merciful\n",
            "3     4                         master   day  judgment\n",
            "4     5                thee   worship  thine aid  seek\n"
          ]
        }
      ]
    },
    {
      "cell_type": "code",
      "source": [
        "vectorizer = TfidfVectorizer()\n",
        "tfidf_matrix = vectorizer.fit_transform(df['EnglishTranslation'])\n"
      ],
      "metadata": {
        "id": "c7Rq6Av8bQRr"
      },
      "execution_count": 5,
      "outputs": []
    },
    {
      "cell_type": "code",
      "source": [
        "# Define a single query\n",
        "query = \"What is charity?\""
      ],
      "metadata": {
        "id": "TE5Zf9DQby57"
      },
      "execution_count": 22,
      "outputs": []
    },
    {
      "cell_type": "code",
      "source": [
        "\n",
        "# Transform the query to vector\n",
        "query_vector = vectorizer.transform([query])"
      ],
      "metadata": {
        "id": "ElviYjwYb20i"
      },
      "execution_count": 23,
      "outputs": []
    },
    {
      "cell_type": "code",
      "source": [
        "# Compute cosine similarities\n",
        "cosine_similarities = cosine_similarity(query_vector, tfidf_matrix).flatten()"
      ],
      "metadata": {
        "id": "XlpUWGrob92I"
      },
      "execution_count": 24,
      "outputs": []
    },
    {
      "cell_type": "code",
      "source": [
        "# Find the indices of the top 3 most similar documents\n",
        "top_sim_indices = cosine_similarities.argsort()[-3:][::-1]"
      ],
      "metadata": {
        "id": "x-9TqBffcB3a"
      },
      "execution_count": 25,
      "outputs": []
    },
    {
      "cell_type": "code",
      "source": [
        "# Print the results with serial numbers\n",
        "for i, sim_idx in enumerate(top_sim_indices):\n",
        "    print(f\"Most similar document {i+1}: SrNo {df['SrNo'].iloc[sim_idx]}\")\n",
        "    print(f\"English Translation: {df['EnglishTranslation'].iloc[sim_idx]}\")\n",
        "    print(f\"Similarity Score: {cosine_similarities[sim_idx]}\")\n",
        "    print()\n"
      ],
      "metadata": {
        "colab": {
          "base_uri": "https://localhost:8080/"
        },
        "id": "yVn8OrRgerzk",
        "outputId": "ee447a67-61ad-479d-e81c-5df8b66b7987"
      },
      "execution_count": 27,
      "outputs": [
        {
          "output_type": "stream",
          "name": "stdout",
          "text": [
            "Most similar document 1: SrNo 50\n",
            "English Translation:   steadfast  prayer practise regular charity  bow   heads    bow   worship\n",
            "Similarity Score: 0.3094308723412391\n",
            "\n",
            "Most similar document 2: SrNo 90\n",
            "English Translation:  remember  took  covenant   children  israel   effect worship none  allah treat  kindness  parents  kindred  orphans    need speak fair   people  steadfast  prayer  practise regular charity   ye turn back except   among   ye backslide even now\n",
            "Similarity Score: 0.1913440412872102\n",
            "\n",
            "Most similar document 3: SrNo 37\n",
            "English Translation: behold thy lord said   angels  will create  vicegerent  earth  said wilt thou place therein one  will make mischief therein  shed blood whilst   celebrate thy praises  glorify thy holy name  said  know  ye know \n",
            "Similarity Score: 0.0\n",
            "\n"
          ]
        }
      ]
    }
  ]
}